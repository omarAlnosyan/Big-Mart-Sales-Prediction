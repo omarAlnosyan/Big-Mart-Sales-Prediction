{
 "cells": [
  {
   "cell_type": "markdown",
   "id": "c5731f28-d3cf-4dbb-bfb6-a10dd5857cd2",
   "metadata": {},
   "source": [
    "## !pip install pandas numpy seaborn matplotlib klib dtale scikit-learn joblib pandas-profiling\n"
   ]
  },
  {
   "cell_type": "code",
   "execution_count": null,
   "id": "727367de-f203-4a9b-abda-7d97c8246343",
   "metadata": {},
   "outputs": [],
   "source": [
    "import pandas as pd\n",
    "import numpy as np\n",
    "%matplotlib inline\n",
    "import matplotlib.pyplot as plt\n",
    "import seaborn as sns"
   ]
  },
  {
   "cell_type": "code",
   "execution_count": null,
   "id": "f56128ab-357e-45f1-970a-eefb0bf5fbc8",
   "metadata": {},
   "outputs": [],
   "source": [
    "df_train = pd.read_csv(r\"C:\\Users\\koolg\\ML PROJECTS\\BigMart Sales Prediction using Machine Learning End to End Project\\DATA\\Train.csv\")\n",
    "df_test  = pd.read_csv(r\"C:\\Users\\koolg\\ML PROJECTS\\BigMart Sales Prediction using Machine Learning End to End Project\\DATA\\Test.csv\")\n"
   ]
  },
  {
   "cell_type": "code",
   "execution_count": null,
   "id": "90230bf4-c122-4098-9768-1e7011fd9d38",
   "metadata": {},
   "outputs": [],
   "source": [
    "df_test"
   ]
  },
  {
   "cell_type": "code",
   "execution_count": null,
   "id": "f60aa576-5b59-4334-9d9e-fc11fb4b2911",
   "metadata": {},
   "outputs": [],
   "source": [
    "df_train.head()"
   ]
  },
  {
   "cell_type": "code",
   "execution_count": null,
   "id": "515e18bd-8118-40c3-8aa0-8c55e85cccd0",
   "metadata": {},
   "outputs": [],
   "source": [
    "df_train.tail()"
   ]
  },
  {
   "cell_type": "code",
   "execution_count": null,
   "id": "f5bf3b7e-cdef-41b9-828d-3aaeeca7d4a6",
   "metadata": {},
   "outputs": [],
   "source": [
    " df_train.shape"
   ]
  },
  {
   "cell_type": "code",
   "execution_count": null,
   "id": "48738c57-27f2-4eab-8c92-db7b35ae115d",
   "metadata": {},
   "outputs": [],
   "source": [
    "df_train.isnull().sum()\n"
   ]
  },
  {
   "cell_type": "code",
   "execution_count": null,
   "id": "42610e00-5959-4f27-9784-c744c1c69583",
   "metadata": {},
   "outputs": [],
   "source": [
    "df_test.isnull().sum()\n"
   ]
  },
  {
   "cell_type": "code",
   "execution_count": null,
   "id": "6445b600-c521-4389-b130-c4dc1f58ed34",
   "metadata": {},
   "outputs": [],
   "source": [
    "df_train.info\n"
   ]
  },
  {
   "cell_type": "code",
   "execution_count": null,
   "id": "137b3c04-9116-4968-84d5-0f9e579370cf",
   "metadata": {},
   "outputs": [],
   "source": [
    "df_train.describe()\n"
   ]
  },
  {
   "cell_type": "code",
   "execution_count": null,
   "id": "ee4b8378-6881-430d-8629-134e4ba8fad7",
   "metadata": {},
   "outputs": [],
   "source": [
    "#Item_Weight is numerical column so we fill it with Mean Imputation\n",
    "\n",
    "df_train['Item_Weight'].describe()\n"
   ]
  },
  {
   "cell_type": "code",
   "execution_count": null,
   "id": "d726acca-4166-44be-8b32-c1f0be34508d",
   "metadata": {},
   "outputs": [],
   "source": [
    "df_train['Item_Weight'].fillna(df_train['Item_Weight'].mean(),inplace=True)\n",
    "df_test['Item_Weight'].fillna(df_test['Item_Weight'].mean(),inplace=True)"
   ]
  },
  {
   "cell_type": "code",
   "execution_count": null,
   "id": "fd38d9b0-9eda-4873-b952-96dd03e422d5",
   "metadata": {},
   "outputs": [],
   "source": [
    "df_train.isnull().sum()\n"
   ]
  },
  {
   "cell_type": "code",
   "execution_count": null,
   "id": "6c656808-35ea-405c-9014-8f3caf886450",
   "metadata": {},
   "outputs": [],
   "source": [
    "df_train['Item_Weight'].describe()\n"
   ]
  },
  {
   "cell_type": "code",
   "execution_count": null,
   "id": "fa9f8332-0337-4978-bf19-7cb8679c1935",
   "metadata": {},
   "outputs": [],
   "source": [
    "# Outlet_Size is catagorical column so we fill it with Mode Imputation \n",
    "df_train['Outlet_Size'].value_counts()\n"
   ]
  },
  {
   "cell_type": "code",
   "execution_count": null,
   "id": "523f4a91-6244-45d9-8440-c760b667bd2c",
   "metadata": {},
   "outputs": [],
   "source": [
    "df_train['Outlet_Size'].mode()\n"
   ]
  },
  {
   "cell_type": "code",
   "execution_count": null,
   "id": "b8920fda-4642-438e-ba1a-fd9bf242e204",
   "metadata": {},
   "outputs": [],
   "source": [
    "df_train['Outlet_Size'].fillna(df_train['Outlet_Size'].mode()[0],inplace=True)\n",
    "df_test['Outlet_Size'].fillna(df_test['Outlet_Size'].mode()[0],inplace=True)"
   ]
  },
  {
   "cell_type": "code",
   "execution_count": null,
   "id": "8ab33c39-4390-426a-a2cc-14bdde24830c",
   "metadata": {},
   "outputs": [],
   "source": [
    "df_train.isnull().sum()\n"
   ]
  },
  {
   "cell_type": "code",
   "execution_count": null,
   "id": "75a25898-981b-414c-998e-e8e80147c61e",
   "metadata": {},
   "outputs": [],
   "source": [
    "df_test.isnull().sum()\n"
   ]
  },
  {
   "cell_type": "code",
   "execution_count": null,
   "id": "54a26d86-96ea-497b-88db-a3562c5d5ad9",
   "metadata": {},
   "outputs": [],
   "source": [
    "df_train.isnull().sum()\n"
   ]
  },
  {
   "cell_type": "code",
   "execution_count": null,
   "id": "b5491798-1318-49ed-836c-96b8d8babe25",
   "metadata": {},
   "outputs": [],
   "source": [
    "df_train"
   ]
  },
  {
   "cell_type": "code",
   "execution_count": null,
   "id": "5d492332-ba5a-42a4-827c-3fcdc8b5564c",
   "metadata": {},
   "outputs": [],
   "source": [
    "print(df_train.columns.tolist())\n"
   ]
  },
  {
   "cell_type": "markdown",
   "id": "0ff8a632-78e1-4d33-8d27-b6027702dbbc",
   "metadata": {},
   "source": [
    "## Selecting features based on general requirements"
   ]
  },
  {
   "cell_type": "code",
   "execution_count": null,
   "id": "fd1d4a6e-2f67-48c4-9c69-f645e810a8a9",
   "metadata": {},
   "outputs": [],
   "source": [
    "df_train.drop(['Item_Identifier','Outlet_Identifier'], axis=1, inplace=True)\n",
    "df_test.drop(['Item_Identifier','Outlet_Identifier'], axis=1, inplace=True)\n"
   ]
  },
  {
   "cell_type": "code",
   "execution_count": null,
   "id": "aebfc036-c3e0-4e8a-9067-198688cce0ca",
   "metadata": {},
   "outputs": [],
   "source": [
    "df_train\n"
   ]
  },
  {
   "cell_type": "markdown",
   "id": "d8e91593-7ef8-473d-8b1a-0c62cc71af46",
   "metadata": {},
   "source": [
    "## EDA with Dtale Library\n"
   ]
  },
  {
   "cell_type": "code",
   "execution_count": null,
   "id": "ef7ce4d2-b19b-4de9-8d9f-78908b73b4c6",
   "metadata": {},
   "outputs": [],
   "source": [
    "from pandas_profiling import ProfileReport\n"
   ]
  },
  {
   "cell_type": "code",
   "execution_count": null,
   "id": "7c5b6050-3ab6-4309-b188-ff37aaf7dc25",
   "metadata": {},
   "outputs": [],
   "source": [
    "!pip install ydata-profiling\n",
    "\n",
    "import ydata_profiling as yp\n",
    "\n",
    "import pandas as pd\n",
    "from ydata_profiling import ProfileReport"
   ]
  },
  {
   "cell_type": "code",
   "execution_count": null,
   "id": "b0dc93b3-8641-405c-b652-e1c90a01802c",
   "metadata": {},
   "outputs": [],
   "source": [
    "from pandas_profiling import ProfileReport\n"
   ]
  },
  {
   "cell_type": "code",
   "execution_count": null,
   "id": "c7eb98eb-c742-4234-9d46-43ec10e45d00",
   "metadata": {},
   "outputs": [],
   "source": [
    "profile = ProfileReport(df_train, title=\"Pandas Profiling Report\")\n"
   ]
  },
  {
   "cell_type": "code",
   "execution_count": null,
   "id": "084a6627-123c-4ec7-a717-3c0043b25ac7",
   "metadata": {
    "scrolled": true
   },
   "outputs": [],
   "source": [
    "\n",
    "profile\n"
   ]
  },
  {
   "cell_type": "markdown",
   "id": "5e96a0ac-7565-40b4-9c04-2def6fb163c8",
   "metadata": {},
   "source": [
    "## EDA with Dtale Library"
   ]
  },
  {
   "cell_type": "code",
   "execution_count": null,
   "id": "e60da4d8-0399-4f6d-b4a0-97a61cf66131",
   "metadata": {},
   "outputs": [],
   "source": [
    "!pip install dtale\n"
   ]
  },
  {
   "cell_type": "code",
   "execution_count": null,
   "id": "80bb5d1b-0512-42d4-b0f1-146da4d558d6",
   "metadata": {},
   "outputs": [],
   "source": [
    "import dtale\n",
    "import pandas as pd"
   ]
  },
  {
   "cell_type": "code",
   "execution_count": null,
   "id": "92156aed-f0ab-42b3-86de-173de3aa29f7",
   "metadata": {},
   "outputs": [],
   "source": [
    "dtale.show(df_train)"
   ]
  },
  {
   "cell_type": "markdown",
   "id": "4b7552f3-573e-4339-b36c-700dd8408718",
   "metadata": {},
   "source": [
    "## Pandas Profiling"
   ]
  },
  {
   "cell_type": "code",
   "execution_count": null,
   "id": "55502d0f-c6ab-4f98-a90e-4b68910ba746",
   "metadata": {},
   "outputs": [],
   "source": [
    "from pandas_profiling import ProfileReport"
   ]
  },
  {
   "cell_type": "code",
   "execution_count": null,
   "id": "454a4e15-2b7c-4737-8227-df513d35f599",
   "metadata": {},
   "outputs": [],
   "source": [
    "import sys\n",
    "!{sys.executable} -m pip install -U ipywidgets\n",
    "\n",
    "# في الـ Classic Notebook (فقط إن لزم):\n",
    "# !jupyter nbextension enable --py widgetsnbextension\n",
    "\n",
    "# جرّب إن الودجت يعمل:\n",
    "import ipywidgets as widgets\n",
    "widgets.IntSlider()\n"
   ]
  },
  {
   "cell_type": "code",
   "execution_count": null,
   "id": "018f216b-8f5a-4b83-b94d-2d9e8ec006a4",
   "metadata": {},
   "outputs": [],
   "source": [
    "from ydata_profiling import ProfileReport   # أو pandas_profiling إذا تصرّ عليه\n",
    "profile = ProfileReport(df_train, title=\"Pandas Profiling Report\")\n",
    "profile.to_widgets()   # هذا يحتاج ipywidgets مفعّل\n"
   ]
  },
  {
   "cell_type": "markdown",
   "id": "bba11c5c-5391-4a7e-b2ce-0e70d34d1348",
   "metadata": {},
   "source": [
    "## EDA using Klib Library\n"
   ]
  },
  {
   "cell_type": "code",
   "execution_count": null,
   "id": "9115b746-6501-49d2-a5b3-3d9203bfc74f",
   "metadata": {},
   "outputs": [],
   "source": [
    "!pip install -U klib\n",
    "\n"
   ]
  },
  {
   "cell_type": "code",
   "execution_count": null,
   "id": "013bbe89-7468-4dad-9bba-8cb646bd60c8",
   "metadata": {},
   "outputs": [],
   "source": [
    "import klib\n",
    "import pandas as pd\n",
    "\n",
    "df = pd.DataFrame(df_train)"
   ]
  },
  {
   "cell_type": "markdown",
   "id": "fe4f50d1-0e53-4654-88a4-0d901fc4cc5d",
   "metadata": {},
   "source": [
    "\n",
    "# klib.describe - functions for visualizing datasets\n",
    "## klib.cat_plot(df) # returns a visualization of the number and frequency of categorical features\n",
    "## klib.corr_mat(df) # returns a color-encoded correlation matrix\n",
    "## klib.corr_plot(df) # returns a color-encoded heatmap, ideal for correlations\n",
    "## - klib.corr_interactive_plot(df, split=\"neg\").show() # returns an interactive correlation plot using plotly\n",
    "## - klib.dist_plot(df) # returns a distribution plot for every numeric feature\n",
    "## - klib.missingval_plot(df) # returns a figure containing information about missing values\n"
   ]
  },
  {
   "cell_type": "code",
   "execution_count": null,
   "id": "595431d9-2d69-4396-a812-271cafcf8104",
   "metadata": {},
   "outputs": [],
   "source": [
    "klib.corr_mat(df_train) # returns a color-encoded correlation matrix\n"
   ]
  },
  {
   "cell_type": "code",
   "execution_count": null,
   "id": "61688489-6973-4b2b-a425-d090f5f90bde",
   "metadata": {},
   "outputs": [],
   "source": [
    "klib.cat_plot(df_train)"
   ]
  },
  {
   "cell_type": "code",
   "execution_count": null,
   "id": "80c72c61-5734-49a3-84c1-68abb9df8fce",
   "metadata": {},
   "outputs": [],
   "source": [
    "klib.corr_plot(df_train) \n"
   ]
  },
  {
   "cell_type": "code",
   "execution_count": null,
   "id": "de6160d7-9068-40b0-96be-7115a0bdbf65",
   "metadata": {},
   "outputs": [],
   "source": [
    "klib.missingval_plot(df_train)"
   ]
  },
  {
   "cell_type": "markdown",
   "id": "e85c795b-3c2e-478a-9615-5777b837c2eb",
   "metadata": {},
   "source": [
    "## Data Cleaning using Klib Library"
   ]
  },
  {
   "cell_type": "code",
   "execution_count": null,
   "id": "9878117f-6a0a-4185-84ad-a523e40b2703",
   "metadata": {},
   "outputs": [],
   "source": [
    "klib.data_cleaning(df_train) # performs datacleaning (drop duplicates & empty rows/cols, adjust dtypes,...)"
   ]
  },
  {
   "cell_type": "code",
   "execution_count": null,
   "id": "a94e99a0-f45e-46e2-854c-070c518582b0",
   "metadata": {},
   "outputs": [],
   "source": [
    "klib.clean_column_names(df_train) # cleans and standardizes column names, also called inside data_cleaning()\n"
   ]
  },
  {
   "cell_type": "code",
   "execution_count": null,
   "id": "0789c04a-982f-49b4-9ddc-780fd25f1b9e",
   "metadata": {},
   "outputs": [],
   "source": [
    "df_train.info()\n"
   ]
  },
  {
   "cell_type": "code",
   "execution_count": null,
   "id": "9c59e811-1b1e-4abe-8756-f83771505990",
   "metadata": {},
   "outputs": [],
   "source": [
    "df_train=klib.convert_datatypes(df_train) # converts existing to more efficient dtypes, also called inside data_cleaning()\n",
    "df_train.info()"
   ]
  },
  {
   "cell_type": "code",
   "execution_count": null,
   "id": "0f738d72-5f07-4932-b155-23afc2450696",
   "metadata": {},
   "outputs": [],
   "source": [
    "klib.mv_col_handling(df_train)\n"
   ]
  },
  {
   "cell_type": "markdown",
   "id": "e279577c-d443-4bda-8eba-97375071be7a",
   "metadata": {},
   "source": [
    "## Preprocessing Task before Model Building\n",
    "## 1) Label Encoding \\ one hot encloding "
   ]
  },
  {
   "cell_type": "code",
   "execution_count": null,
   "id": "a0fef6d5-9578-452f-8067-40e1369b44fa",
   "metadata": {},
   "outputs": [],
   "source": [
    "from sklearn.preprocessing import LabelEncoder\n",
    "le=LabelEncoder()\n",
    "\n"
   ]
  },
  {
   "cell_type": "code",
   "execution_count": null,
   "id": "183829f4-dbc4-430a-a28d-7c57b16cadad",
   "metadata": {},
   "outputs": [],
   "source": [
    "## only catgroy to numrcal like\n",
    "\\\\\n",
    "##1- Item_Fat_Content\t\n",
    "#2-Item_Type \n",
    "#3-Outlet_Size\n",
    "#4-Outlet_Location_Type\n",
    "#5-Outlet_Type \n",
    "\\\\"
   ]
  },
  {
   "cell_type": "code",
   "execution_count": null,
   "id": "1bfd9512-2210-498d-8d86-2d4b786864d9",
   "metadata": {},
   "outputs": [],
   "source": [
    "df_train"
   ]
  },
  {
   "cell_type": "code",
   "execution_count": null,
   "id": "5fa517b8-0084-4841-acbd-f7010b85427b",
   "metadata": {},
   "outputs": [],
   "source": [
    "\n",
    "df_train['Item_Fat_Content']      = le.fit_transform(df_train['Item_Fat_Content'].fillna('Missing').astype(str))\n",
    "df_train['Item_Type']             = le.fit_transform(df_train['Item_Type'].fillna('Missing').astype(str))\n",
    "df_train['Outlet_Size']           = le.fit_transform(df_train['Outlet_Size'].fillna('Missing').astype(str))\n",
    "df_train['Outlet_Location_Type']  = le.fit_transform(df_train['Outlet_Location_Type'].fillna('Missing').astype(str))\n",
    "df_train['Outlet_Type']           = le.fit_transform(df_train['Outlet_Type'].fillna('Missing').astype(str))\n"
   ]
  },
  {
   "cell_type": "code",
   "execution_count": null,
   "id": "5c18bd98-51d7-4ee1-a134-170429c8b7ee",
   "metadata": {},
   "outputs": [],
   "source": [
    "df_train.head()"
   ]
  },
  {
   "cell_type": "markdown",
   "id": "d1ab2385-85c8-41da-9fca-5c422a060d6b",
   "metadata": {},
   "source": [
    "## one hot encloding"
   ]
  },
  {
   "cell_type": "code",
   "execution_count": null,
   "id": "ad9bf46b-7e91-4f58-9e22-a18824114b21",
   "metadata": {},
   "outputs": [],
   "source": [
    "from sklearn.preprocessing import OneHotEncoder\n",
    "from sklearn.impute import SimpleImputer\n"
   ]
  },
  {
   "cell_type": "code",
   "execution_count": null,
   "id": "e1397e17-3539-4ffe-800f-3c4ad6be3175",
   "metadata": {},
   "outputs": [],
   "source": [
    "\n",
    "# columns to encode\n",
    "#cat_cols = ['item_fat_content','item_type','outlet_size',\n",
    "            'outlet_location_type','outlet_type']\n",
    "\n",
    "# 1) impute categories (fit on train only)\n",
    "#imp = SimpleImputer(strategy='most_frequent')\n",
    "#train_cat = pd.DataFrame(imp.fit_transform(df_train[cat_cols]),\n",
    "                         columns=cat_cols, index=df_train.index)\n",
    "\n",
    "# 2) one-hot encode (pandas output)\n",
    "#ohe = OneHotEncoder(handle_unknown='ignore', sparse_output=False)\n",
    "#train_ohe = pd.DataFrame(ohe.fit_transform(train_cat),\n",
    "                         columns=ohe.get_feature_names_out(cat_cols),\n",
    "                         index=df_train.index)\n",
    "\n",
    "# 3) build the final encoded train frame\n",
    "#df_train_ohe = pd.concat([df_train.drop(columns=cat_cols), train_ohe], axis=1)\n"
   ]
  },
  {
   "cell_type": "code",
   "execution_count": null,
   "id": "e7601e1a-8460-46f7-bd9c-27dea439526c",
   "metadata": {},
   "outputs": [],
   "source": [
    "#df_train_ohe"
   ]
  },
  {
   "cell_type": "code",
   "execution_count": null,
   "id": "8877a20c-fd0d-4578-aaa0-3c1c9eaf9c40",
   "metadata": {},
   "outputs": [],
   "source": [
    "#(df_train_ohe\n",
    " #.filter(regex='^(item_fat_content|item_type|outlet_size|outlet_location_type|outlet_type)_')\n",
    " #.isin([0,1])\n",
    "# .all()\n",
    "# .all())\n"
   ]
  },
  {
   "cell_type": "code",
   "execution_count": null,
   "id": "4f5bfb42-b128-45e7-9598-ddb2981cc4ce",
   "metadata": {},
   "outputs": [],
   "source": [
    "# Your original columns list\n",
    "# cat_cols = ['item_fat_content','item_type','outlet_size',\n",
    "#             'outlet_location_type','outlet_type']\n",
    "\n",
    "# Test with just ONE column from your list\n",
    "#cat_cols = ['item_fat_content']  # Pick one to test\n",
    "\n",
    "# 1) impute categories (fit on train only)\n",
    "#imp = SimpleImputer(strategy='most_frequent')\n",
    "#train_cat = pd.DataFrame(imp.fit_transform(df_train[cat_cols]),\n",
    "                         columns=cat_cols, index=df_train.index)\n",
    "\n",
    "#print(\"Unique values in item_fat_content:\")\n",
    "#print(train_cat['item_fat_content'].unique())\n",
    "\n",
    "# 2) one-hot encode (pandas output) \n",
    "#ohe = OneHotEncoder(handle_unknown='ignore', sparse_output=False)\n",
    "#train_ohe_array = ohe.fit_transform(train_cat)\n",
    "\n",
    "# Get proper column names showing actual categories\n",
    "#feature_names = ohe.get_feature_names_out(cat_cols)\n",
    "#print(\"\\nGenerated feature names:\")\n",
    "#print(feature_names)\n",
    "\n",
    "# Create DataFrame with proper names\n",
    "#train_ohe = pd.DataFrame(train_ohe_array,\n",
    "                         columns=feature_names,\n",
    "                         index=df_train.index)\n",
    "\n",
    "# 3) build the final encoded train frame\n",
    "#df_train_ohe = pd.concat([df_train.drop(columns=cat_cols), train_ohe], axis=1)\n",
    "\n",
    "#print(\"\\nOriginal columns:\", df_train.columns.tolist())\n",
    "#print(\"After encoding columns:\", df_train_ohe.columns.tolist())\n",
    "#print(\"New encoded columns:\", train_ohe.columns.tolist())\n",
    "\n",
    "# Show a sample of the encoded data\n",
    "#print(\"\\nSample of encoded data:\")\n",
    "#print(train_ohe.head())"
   ]
  },
  {
   "cell_type": "code",
   "execution_count": null,
   "id": "b45901ec-5d57-4aa0-ab99-6dc8ea235ae3",
   "metadata": {},
   "outputs": [],
   "source": [
    "X=df_train.drop('Item_Outlet_Sales',axis=1)"
   ]
  },
  {
   "cell_type": "code",
   "execution_count": null,
   "id": "51c4b98e-4832-4797-beeb-362363b973b5",
   "metadata": {},
   "outputs": [],
   "source": [
    "Y=df_train['Item_Outlet_Sales'] ## only the item_outlet_sales \n"
   ]
  },
  {
   "cell_type": "markdown",
   "id": "b75e3184-421f-4e64-ad4e-09b6b948e160",
   "metadata": {},
   "source": [
    "## 2) Splitting our data into train and test"
   ]
  },
  {
   "cell_type": "code",
   "execution_count": null,
   "id": "1d837004-f652-4ebf-9da0-93dfe1260249",
   "metadata": {},
   "outputs": [],
   "source": [
    " \n",
    "from sklearn.model_selection import train_test_split\n",
    "\n",
    "X_train, X_test, Y_train, Y_test = train_test_split(X,Y, random_state=101, test_size=0.2)"
   ]
  },
  {
   "cell_type": "code",
   "execution_count": null,
   "id": "1dce8965-d8c5-4d6b-86e5-1db29aacf439",
   "metadata": {},
   "outputs": [],
   "source": [
    "df_train"
   ]
  },
  {
   "cell_type": "markdown",
   "id": "a463befb-2c32-4e55-83f3-1d3a2644b596",
   "metadata": {},
   "source": [
    "## 3) Standarization\n",
    "to normlaze our data \n",
    "\n",
    "\n",
    "the mean willbe zero \n",
    "the stander divsiom 1 "
   ]
  },
  {
   "cell_type": "code",
   "execution_count": null,
   "id": "3c6c8935-c7b6-447f-8e4c-6b9a09fc3ef1",
   "metadata": {},
   "outputs": [],
   "source": [
    "X.describe()"
   ]
  },
  {
   "cell_type": "code",
   "execution_count": null,
   "id": "445ab76e-251a-4266-b737-63bed21ecbe9",
   "metadata": {},
   "outputs": [],
   "source": [
    "from sklearn.preprocessing import StandardScaler\n",
    "sc= StandardScaler()\n"
   ]
  },
  {
   "cell_type": "code",
   "execution_count": null,
   "id": "3d808544-673e-469e-b81f-bcaa72317b1f",
   "metadata": {},
   "outputs": [],
   "source": [
    "X_train_std= sc.fit_transform(X_train)\n"
   ]
  },
  {
   "cell_type": "code",
   "execution_count": null,
   "id": "ded54fa2-8f85-4619-b16b-c999dbe8f781",
   "metadata": {},
   "outputs": [],
   "source": [
    "X_test_std= sc.transform(X_test)\n"
   ]
  },
  {
   "cell_type": "code",
   "execution_count": null,
   "id": "e67f0e35-6f19-4697-96aa-872f5cef3c85",
   "metadata": {},
   "outputs": [],
   "source": [
    "X_train_std"
   ]
  },
  {
   "cell_type": "code",
   "execution_count": null,
   "id": "866c54f1-bef0-40e6-b8e7-d715590189e0",
   "metadata": {},
   "outputs": [],
   "source": [
    "X_test_std"
   ]
  },
  {
   "cell_type": "code",
   "execution_count": null,
   "id": "412d4a67-e53a-436b-a4be-13659acb1408",
   "metadata": {},
   "outputs": [],
   "source": [
    "Y_train"
   ]
  },
  {
   "cell_type": "code",
   "execution_count": null,
   "id": "13e4981e-6af6-4ef7-9e1c-4a7dd0ca9e17",
   "metadata": {},
   "outputs": [],
   "source": [
    "Y_test"
   ]
  },
  {
   "cell_type": "code",
   "execution_count": null,
   "id": "b9fb8b64-4179-4589-ab9f-992adc44165c",
   "metadata": {},
   "outputs": [],
   "source": [
    "import joblib"
   ]
  },
  {
   "cell_type": "code",
   "execution_count": null,
   "id": "bdef9967-0869-4e5a-a936-713068a97dc5",
   "metadata": {},
   "outputs": [],
   "source": [
    "joblib.dump(sc,r\"C:\\Users\\koolg\\ML PROJECTS\\BigMart Sales Prediction using Machine Learning End to End Project\\models\\sc.sav\")\n"
   ]
  },
  {
   "cell_type": "markdown",
   "id": "80ec936e-80a6-400d-9850-421253ae2104",
   "metadata": {},
   "source": [
    "## Model Building\n"
   ]
  },
  {
   "cell_type": "code",
   "execution_count": null,
   "id": "fe2f89f9-419d-4f4d-8de8-538bd24dc87d",
   "metadata": {},
   "outputs": [],
   "source": [
    "from sklearn.linear_model import LinearRegression\n",
    "lr= LinearRegression()\n",
    "lr.fit(X_train_std,Y_train)\n"
   ]
  },
  {
   "cell_type": "markdown",
   "id": "e41144fe-e459-4684-8648-8e52f9fd8b41",
   "metadata": {},
   "source": [
    "X_test.head()"
   ]
  },
  {
   "cell_type": "code",
   "execution_count": null,
   "id": "b9a35190-c459-4638-a371-9f2779756479",
   "metadata": {},
   "outputs": [],
   "source": [
    "X_train.head()\n"
   ]
  },
  {
   "cell_type": "code",
   "execution_count": null,
   "id": "74eb3792-b915-4ebb-8cd0-865641b58479",
   "metadata": {},
   "outputs": [],
   "source": [
    "Y_pred_lr=lr.predict(X_test_std)\n"
   ]
  },
  {
   "cell_type": "code",
   "execution_count": null,
   "id": "8cb33e85-9035-475b-8dfa-2b48af0a7f0f",
   "metadata": {},
   "outputs": [],
   "source": [
    "from sklearn.metrics import r2_score, mean_absolute_error, mean_squared_error\n",
    "print(r2_score(Y_test,Y_pred_lr))\n",
    "print(mean_absolute_error(Y_test,Y_pred_lr))\n",
    "print(np.sqrt(mean_squared_error(Y_test,Y_pred_lr)))"
   ]
  },
  {
   "cell_type": "code",
   "execution_count": null,
   "id": "1ef91f98-fc61-47b0-9a20-086f7b584b97",
   "metadata": {},
   "outputs": [],
   "source": [
    "from pathlib import Path\n",
    "import joblib\n",
    "\n",
    "model_path = Path(r\"C:\\Users\\koolg\\ML PROJECTS\\BigMart Sales Prediction using Machine Learning End to End Project\\models\\lr.joblib\")\n",
    "\n",
    "# confirm exists\n",
    "print(model_path.exists())\n",
    "\n",
    "# load\n",
    "lr = joblib.load(model_path)\n",
    "\n",
    "# use it (example)\n",
    "# y_pred = lr.predict(X_new)  # X_new must be preprocessed same as training\n"
   ]
  },
  {
   "cell_type": "code",
   "execution_count": null,
   "id": "3b157b65-3f41-4ff4-94fe-857b08b436d2",
   "metadata": {},
   "outputs": [],
   "source": [
    "from sklearn.ensemble import RandomForestRegressor\n",
    "rf= RandomForestRegressor(n_estimators=1000)"
   ]
  },
  {
   "cell_type": "code",
   "execution_count": null,
   "id": "5587bf61-b15a-40d7-a37a-c2230832c6e4",
   "metadata": {},
   "outputs": [],
   "source": [
    "rf.fit(X_train_std,Y_train)\n"
   ]
  },
  {
   "cell_type": "code",
   "execution_count": null,
   "id": "35169ce4-7565-47af-bbb9-8cdfdc4ef783",
   "metadata": {},
   "outputs": [],
   "source": [
    "Y_pred_rf= rf.predict(X_test_std)\n",
    "print(r2_score(Y_test,Y_pred_rf))\n",
    "print(mean_absolute_error(Y_test,Y_pred_rf))\n",
    "print(np.sqrt(mean_squared_error(Y_test,Y_pred_rf)))"
   ]
  },
  {
   "cell_type": "code",
   "execution_count": null,
   "id": "4784065b-a6fa-419e-af57-e49be32d7ddb",
   "metadata": {},
   "outputs": [],
   "source": [
    "joblib.dump(rf,r\"C:\\Users\\koolg\\ML PROJECTS\\BigMart Sales Prediction using Machine Learning End to End Project\\models\\rf.sav\")\n"
   ]
  },
  {
   "cell_type": "markdown",
   "id": "da984504-2c7a-4c03-a747-fae3c20d8cac",
   "metadata": {},
   "source": [
    "## Hyper Parameter Tuning\n"
   ]
  },
  {
   "cell_type": "code",
   "execution_count": null,
   "id": "c174b247-ecb7-4ae1-bc12-b9bc738e6de0",
   "metadata": {},
   "outputs": [],
   "source": [
    "from sklearn.model_selection import RepeatedStratifiedKFold\n",
    "from sklearn.model_selection import GridSearchCV\n",
    "\n",
    "# define models and parameters\n",
    "model = RandomForestRegressor()\n",
    "n_estimators = [10, 100, 1000]\n",
    "max_depth=range(1,31)\n",
    "min_samples_leaf=np.linspace(0.1, 1.0)\n",
    "max_features=[\"auto\", \"sqrt\", \"log2\"]\n",
    "min_samples_split=np.linspace(0.1, 1.0, 10)\n",
    "\n",
    "# define grid search\n",
    "grid = dict(n_estimators=n_estimators)\n",
    "\n",
    "#cv = RepeatedStratifiedKFold(n_splits=5, n_repeats=3, random_state=101)\n",
    "\n",
    "grid_search_forest = GridSearchCV(estimator=model, param_grid=grid, n_jobs=-1, \n",
    "                           scoring='r2',error_score=0,verbose=2,cv=2)\n",
    "\n",
    "grid_search_forest.fit(X_train_std, Y_train)\n",
    "\n",
    "# summarize results\n",
    "print(f\"Best: {grid_search_forest.best_score_:.3f} using {grid_search_forest.best_params_}\")\n",
    "means = grid_search_forest.cv_results_['mean_test_score']\n",
    "stds = grid_search_forest.cv_results_['std_test_score']\n",
    "params = grid_search_forest.cv_results_['params']\n",
    "\n",
    "for mean, stdev, param in zip(means, stds, params):\n",
    "    print(f\"{mean:.3f} ({stdev:.3f}) with: {param}\")"
   ]
  },
  {
   "cell_type": "code",
   "execution_count": null,
   "id": "0ca2daf4-fdd9-4c0d-aa4b-0bd1e39df124",
   "metadata": {},
   "outputs": [],
   "source": [
    "grid_search_forest.best_params_\n"
   ]
  },
  {
   "cell_type": "code",
   "execution_count": null,
   "id": "6265d867-4ab5-4acd-b1ab-42dd3b8a5550",
   "metadata": {},
   "outputs": [],
   "source": [
    "grid_search_forest.best_score_\n",
    "\n"
   ]
  },
  {
   "cell_type": "code",
   "execution_count": null,
   "id": "12a53759-a565-410d-b10f-c74970abbf72",
   "metadata": {},
   "outputs": [],
   "source": [
    "Y_pred_rf_grid=grid_search_forest.predict(X_test_std)\n"
   ]
  },
  {
   "cell_type": "code",
   "execution_count": null,
   "id": "f18f2cad-2039-47a3-b580-a9a8e2cebe9c",
   "metadata": {},
   "outputs": [],
   "source": [
    "r2_score(Y_test,Y_pred_rf_grid)"
   ]
  },
  {
   "cell_type": "code",
   "execution_count": null,
   "id": "3bdac88c-d648-459a-bd9a-64abb4d1ca01",
   "metadata": {},
   "outputs": [],
   "source": [
    "from pathlib import Path\n",
    "import joblib\n",
    "\n",
    "# Base folder of your project (your CWD from earlier)\n",
    "base = Path(r\"C:\\Users\\koolg\\ML PROJECTS\\BigMart Sales Prediction using Machine Learning End to End Project\")\n",
    "save_dir = base / \"models\"\n",
    "save_dir.mkdir(parents=True, exist_ok=True)\n",
    "\n",
    "# 1) Save the full GridSearchCV object\n",
    "grid_path = save_dir / \"random_forest_grid.joblib\"\n",
    "joblib.dump(grid_search_forest, grid_path, compress=3)\n",
    "print(\"Saved grid to:\", grid_path)\n",
    "\n",
    "# (optional) also save just the best fitted model\n",
    "best_path = save_dir / \"random_forest_best.joblib\"\n",
    "joblib.dump(grid_search_forest.best_estimator_, best_path, compress=3)\n",
    "print(\"Saved best model to:\", best_path)\n"
   ]
  },
  {
   "cell_type": "code",
   "execution_count": null,
   "id": "95934ec4-61f6-43a7-af0e-0441a825e0af",
   "metadata": {},
   "outputs": [],
   "source": [
    "import streamlit as st, pandas as pd, joblib\n",
    "from pathlib import Path\n",
    "\n",
    "st.set_page_config(page_title=\"BigMart Sales\", page_icon=\"🛒\")\n",
    "st.title(\"🛒 BigMart Sales Predictor\")\n",
    "\n",
    "pipe = joblib.load(Path(\"models/sales_pipeline.joblib\"))  # saved above\n",
    "\n",
    "with st.form(\"f\"):\n",
    "    c1, c2 = st.columns(2)\n",
    "    with c1:\n",
    "        item_weight   = st.number_input(\"Item_Weight\", 0.0, 200.0, 10.0, 0.1)\n",
    "        item_visibility = st.number_input(\"Item_Visibility\", 0.0, 1.0, 0.05, 0.01)\n",
    "        item_mrp      = st.number_input(\"Item_MRP\", 0.0, 500.0, 100.0, 0.25)\n",
    "        outlet_year   = st.number_input(\"Outlet_Establishment_Year\", 1950, 2025, 1999)\n",
    "    with c2:\n",
    "        item_fat_content     = st.selectbox(\"Item_Fat_Content\", [\"Low Fat\",\"Regular\",\"LF\",\"reg\",\"low fat\"])\n",
    "        item_type            = st.selectbox(\"Item_Type\", [\"Dairy\",\"Soft Drinks\",\"Meat\",\"Fruits and Vegetables\",\"Household\",\n",
    "                                                          \"Baking Goods\",\"Snack Foods\",\"Frozen Foods\",\"Breakfast\",\n",
    "                                                          \"Health and Hygiene\",\"Hard Drinks\",\"Canned\",\"Breads\",\n",
    "                                                          \"Starchy Foods\",\"Seafood\",\"Others\"])\n",
    "        outlet_size          = st.selectbox(\"Outlet_Size\", [\"Small\",\"Medium\",\"High\"])\n",
    "        outlet_location_type = st.selectbox(\"Outlet_Location_Type\", [\"Tier 1\",\"Tier 2\",\"Tier 3\"])\n",
    "        outlet_type          = st.selectbox(\"Outlet_Type\", [\"Grocery Store\",\"Supermarket Type1\",\"Supermarket Type2\",\"Supermarket Type3\"])\n",
    "    submitted = st.form_submit_button(\"Predict 🔮\")\n",
    "\n",
    "if submitted:\n",
    "    X = pd.DataFrame([{\n",
    "        \"Item_Weight\": item_weight, \"Item_Fat_Content\": item_fat_content,\n",
    "        \"Item_Visibility\": item_visibility, \"Item_Type\": item_type,\n",
    "        \"Item_MRP\": item_mrp, \"Outlet_Establishment_Year\": outlet_year,\n",
    "        \"Outlet_Size\": outlet_size, \"Outlet_Location_Type\": outlet_location_type,\n",
    "        \"Outlet_Type\": outlet_type\n",
    "    }])\n",
    "    st.success(f\"Predicted Item_Outlet_Sales: **{pipe.predict(X)[0]:,.2f}**\")\n"
   ]
  },
  {
   "cell_type": "code",
   "execution_count": null,
   "id": "37bf9540-4703-41b0-a66c-7e2a7da5b286",
   "metadata": {},
   "outputs": [],
   "source": []
  },
  {
   "cell_type": "code",
   "execution_count": null,
   "id": "4db0fb50-cd74-4644-a2a1-3f99581d7210",
   "metadata": {},
   "outputs": [],
   "source": []
  },
  {
   "cell_type": "code",
   "execution_count": null,
   "id": "3804fd48-3b83-4000-9755-294277844f41",
   "metadata": {},
   "outputs": [],
   "source": []
  }
 ],
 "metadata": {
  "kernelspec": {
   "display_name": "Python (base)",
   "language": "python",
   "name": "base"
  },
  "language_info": {
   "codemirror_mode": {
    "name": "ipython",
    "version": 3
   },
   "file_extension": ".py",
   "mimetype": "text/x-python",
   "name": "python",
   "nbconvert_exporter": "python",
   "pygments_lexer": "ipython3",
   "version": "3.12.7"
  }
 },
 "nbformat": 4,
 "nbformat_minor": 5
}
